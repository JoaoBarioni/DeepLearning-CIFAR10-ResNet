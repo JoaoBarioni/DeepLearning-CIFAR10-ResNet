{
  "cells": [
    {
      "cell_type": "markdown",
      "metadata": {
        "id": "view-in-github",
        "colab_type": "text"
      },
      "source": [
        "<a href=\"https://colab.research.google.com/github/JoaoBarioni/DeepLearning-CIFAR10-ResNet/blob/main/Extra.ipynb\" target=\"_parent\"><img src=\"https://colab.research.google.com/assets/colab-badge.svg\" alt=\"Open In Colab\"/></a>"
      ]
    },
    {
      "cell_type": "code",
      "execution_count": null,
      "metadata": {
        "id": "i8w7a9GQ4eaQ"
      },
      "outputs": [],
      "source": [
        "import torch\n",
        "import torch.nn as nn\n",
        "import torch.optim as optim\n",
        "from torch.optim.lr_scheduler import StepLR\n",
        "from torchvision import datasets, transforms, models\n",
        "from torch.utils.data import DataLoader\n",
        "import torchvision"
      ]
    },
    {
      "cell_type": "code",
      "execution_count": null,
      "metadata": {
        "id": "aHKNXG0R4rDu"
      },
      "outputs": [],
      "source": [
        "class CustomResNet(nn.Module):\n",
        "    def __init__(self):\n",
        "        super(CustomResNet, self).__init__()\n",
        "        self.resnet = models.resnet18(pretrained=True)\n",
        "        self.resnet.fc = nn.Sequential(\n",
        "            nn.Linear(self.resnet.fc.in_features, 512),\n",
        "            nn.ReLU(),\n",
        "            nn.Dropout(0.3),\n",
        "            nn.BatchNorm1d(512),\n",
        "            nn.Linear(512, 256),\n",
        "            nn.ReLU(),\n",
        "            nn.Dropout(0.3),\n",
        "            nn.BatchNorm1d(256),\n",
        "            nn.Linear(256, 10),\n",
        "            nn.Softmax(dim=1)\n",
        "                    )\n",
        "\n",
        "    def forward(self, x):\n",
        "        return self.resnet(x)"
      ]
    },
    {
      "cell_type": "code",
      "execution_count": null,
      "metadata": {
        "colab": {
          "base_uri": "https://localhost:8080/"
        },
        "id": "kVax2PZS4tA7",
        "outputId": "4261c6ba-b682-4970-d2b8-bca2f54169c4"
      },
      "outputs": [
        {
          "output_type": "stream",
          "name": "stdout",
          "text": [
            "Files already downloaded and verified\n",
            "Files already downloaded and verified\n"
          ]
        }
      ],
      "source": [
        "# Carregando dados CIFAR-10\n",
        "transform = transforms.Compose([\n",
        "    transforms.RandomHorizontalFlip(),\n",
        "    transforms.RandomRotation(10),\n",
        "    transforms.ToTensor(),\n",
        "    transforms.Normalize((0.5, 0.5, 0.5), (0.5, 0.5, 0.5))\n",
        "])\n",
        "\n",
        "train_dataset = datasets.CIFAR10(root='./data', train=True, download=True, transform=transform)\n",
        "test_dataset = datasets.CIFAR10(root='./data', train=False, download=True, transform=transform)\n",
        "\n",
        "train_loader = DataLoader(train_dataset, batch_size=64, shuffle=True, num_workers=2)\n",
        "test_loader = DataLoader(test_dataset, batch_size=64, shuffle=False, num_workers=2)\n",
        "\n"
      ]
    },
    {
      "cell_type": "code",
      "execution_count": null,
      "metadata": {
        "id": "HCFjlTF04vBj",
        "colab": {
          "base_uri": "https://localhost:8080/"
        },
        "outputId": "1a87c5d3-e1bf-45cb-b8e7-5f4eb76c5307"
      },
      "outputs": [
        {
          "output_type": "stream",
          "name": "stderr",
          "text": [
            "/usr/local/lib/python3.10/dist-packages/torchvision/models/_utils.py:208: UserWarning: The parameter 'pretrained' is deprecated since 0.13 and may be removed in the future, please use 'weights' instead.\n",
            "  warnings.warn(\n",
            "/usr/local/lib/python3.10/dist-packages/torchvision/models/_utils.py:223: UserWarning: Arguments other than a weight enum or `None` for 'weights' are deprecated since 0.13 and may be removed in the future. The current behavior is equivalent to passing `weights=ResNet18_Weights.IMAGENET1K_V1`. You can also use `weights=ResNet18_Weights.DEFAULT` to get the most up-to-date weights.\n",
            "  warnings.warn(msg)\n"
          ]
        }
      ],
      "source": [
        "# Escolhendo os hiperparâmetros de otimização\n",
        "device = torch.device(\"cuda\" if torch.cuda.is_available() else \"cpu\")\n",
        "model_resnet  = CustomResNet().to(device)\n",
        "optimizer_resnet  = optim.Adam(model_resnet .parameters(), lr=1e-4, weight_decay=1e-4)\n",
        "scheduler_resnet  = StepLR(optimizer_resnet , step_size=5, gamma=0.8)\n",
        "criterion_resnet = nn.CrossEntropyLoss()\n"
      ]
    },
    {
      "cell_type": "code",
      "execution_count": null,
      "metadata": {
        "id": "YdDSMQIW4wYv"
      },
      "outputs": [],
      "source": [
        "# Função para treinar o modelo\n",
        "def train_resnet(model, loader, optimizer, criterion):\n",
        "    model.train()\n",
        "    total_loss = 0.0\n",
        "    correct = 0\n",
        "    total = 0\n",
        "\n",
        "    for inputs, labels in loader:\n",
        "        inputs, labels = inputs.to(device), labels.to(device)\n",
        "\n",
        "        optimizer.zero_grad()\n",
        "        outputs = model(inputs)\n",
        "        loss = criterion(outputs, labels)\n",
        "        loss.backward()\n",
        "        optimizer.step()\n",
        "\n",
        "        total_loss += loss.item()\n",
        "\n",
        "        _, predicted = outputs.max(1)\n",
        "        total += labels.size(0)\n",
        "        correct += predicted.eq(labels).sum().item()\n",
        "\n",
        "    accuracy = 100 * correct / total\n",
        "    return total_loss / len(loader), accuracy\n"
      ]
    },
    {
      "cell_type": "code",
      "execution_count": null,
      "metadata": {
        "id": "abJcYWrH4y64",
        "colab": {
          "base_uri": "https://localhost:8080/"
        },
        "outputId": "60608dc3-c87a-4d36-a547-652e4674f37d"
      },
      "outputs": [
        {
          "output_type": "stream",
          "name": "stdout",
          "text": [
            "Files already downloaded and verified\n",
            "Files already downloaded and verified\n"
          ]
        }
      ],
      "source": [
        "# Carregando dados CIFAR-10\n",
        "transform = transforms.Compose([\n",
        "    transforms.RandomHorizontalFlip(),\n",
        "    transforms.RandomCrop(32, padding=4),\n",
        "    transforms.ToTensor(),\n",
        "    transforms.Normalize((0.5, 0.5, 0.5), (0.5, 0.5, 0.5))\n",
        "])\n",
        "\n",
        "train_dataset = datasets.CIFAR10(root='./data', train=True, download=True, transform=transform)\n",
        "test_dataset = datasets.CIFAR10(root='./data', train=False, download=True, transform=transform)\n",
        "\n",
        "train_loader = DataLoader(train_dataset, batch_size=64, shuffle=True, num_workers=2)\n",
        "test_loader = DataLoader(test_dataset, batch_size=64, shuffle=False, num_workers=2)\n"
      ]
    },
    {
      "cell_type": "code",
      "execution_count": null,
      "metadata": {
        "id": "7923r9dh40n2"
      },
      "outputs": [],
      "source": [
        "# Escolhendo os hiperparâmetros de otimização\n",
        "device = torch.device(\"cuda\" if torch.cuda.is_available() else \"cpu\")\n",
        "vgg16 = vgg16.to(device)\n",
        "optimizer_vgg = optim.Adam(vgg16.parameters(), lr=1e-3)\n",
        "scheduler_vgg = StepLR(optimizer_vgg, step_size=5, gamma=0.9)\n",
        "criterion = nn.CrossEntropyLoss()"
      ]
    },
    {
      "cell_type": "code",
      "source": [
        "for epoch in range(epochs_resnet):\n",
        "    train_loss, train_accuracy = train_resnet(model_resnet, train_loader, optimizer_resnet, criterion)\n",
        "    test_loss, test_accuracy = validate_resnet(model_resnet, test_loader, criterion)\n",
        "\n",
        "    scheduler_resnet.step()\n",
        "\n",
        "    train_losses_resnet.append(train_loss)\n",
        "    train_accuracies_resnet.append(train_accuracy)\n",
        "    test_losses_resnet.append(test_loss)\n",
        "    test_accuracies_resnet.append(test_accuracy)\n",
        "\n",
        "    print(f\"Epoch {epoch + 1}/{epochs_resnet} => \"\n",
        "          f\"Train Loss: {train_loss:.4f}, Train Accuracy: {train_accuracy:.2f}% | \"\n",
        "          f\"Test Loss: {test_loss:.4f}, Test Accuracy: {test_accuracy:.2f}%\")"
      ],
      "metadata": {
        "colab": {
          "base_uri": "https://localhost:8080/"
        },
        "id": "ENw4PlIuaxFk",
        "outputId": "280a5d2e-f440-481f-be8e-ff12292fb736"
      },
      "execution_count": null,
      "outputs": [
        {
          "output_type": "stream",
          "name": "stdout",
          "text": [
            "Epoch 1/50 => Train Loss: 1.3214, Train Accuracy: 54.38% | Test Loss: 0.8224, Test Accuracy: 72.01%\n",
            "Epoch 2/50 => Train Loss: 0.8364, Train Accuracy: 72.67% | Test Loss: 0.7038, Test Accuracy: 76.11%\n",
            "Epoch 3/50 => Train Loss: 0.7215, Train Accuracy: 76.47% | Test Loss: 0.6309, Test Accuracy: 78.72%\n",
            "Epoch 4/50 => Train Loss: 0.6499, Train Accuracy: 78.78% | Test Loss: 0.6020, Test Accuracy: 79.70%\n",
            "Epoch 5/50 => Train Loss: 0.5992, Train Accuracy: 80.33% | Test Loss: 0.5753, Test Accuracy: 80.60%\n",
            "Epoch 6/50 => Train Loss: 0.5409, Train Accuracy: 81.93% | Test Loss: 0.5515, Test Accuracy: 81.50%\n",
            "Epoch 7/50 => Train Loss: 0.5021, Train Accuracy: 83.32% | Test Loss: 0.5188, Test Accuracy: 82.54%\n",
            "Epoch 8/50 => Train Loss: 0.4787, Train Accuracy: 84.21% | Test Loss: 0.5134, Test Accuracy: 82.99%\n",
            "Epoch 9/50 => Train Loss: 0.4557, Train Accuracy: 84.99% | Test Loss: 0.5148, Test Accuracy: 82.40%\n",
            "Epoch 10/50 => Train Loss: 0.4290, Train Accuracy: 85.64% | Test Loss: 0.4942, Test Accuracy: 83.40%\n",
            "Epoch 11/50 => Train Loss: 0.3951, Train Accuracy: 86.66% | Test Loss: 0.4906, Test Accuracy: 83.57%\n",
            "Epoch 12/50 => Train Loss: 0.3810, Train Accuracy: 87.35% | Test Loss: 0.4948, Test Accuracy: 83.26%\n",
            "Epoch 13/50 => Train Loss: 0.3614, Train Accuracy: 87.81% | Test Loss: 0.5067, Test Accuracy: 83.34%\n",
            "Epoch 14/50 => Train Loss: 0.3524, Train Accuracy: 88.09% | Test Loss: 0.4851, Test Accuracy: 83.82%\n",
            "Epoch 15/50 => Train Loss: 0.3348, Train Accuracy: 88.79% | Test Loss: 0.4822, Test Accuracy: 84.44%\n",
            "Epoch 16/50 => Train Loss: 0.3091, Train Accuracy: 89.55% | Test Loss: 0.4961, Test Accuracy: 84.20%\n",
            "Epoch 17/50 => Train Loss: 0.3019, Train Accuracy: 89.91% | Test Loss: 0.4904, Test Accuracy: 84.14%\n",
            "Epoch 18/50 => Train Loss: 0.2853, Train Accuracy: 90.44% | Test Loss: 0.4929, Test Accuracy: 84.27%\n",
            "Epoch 19/50 => Train Loss: 0.2791, Train Accuracy: 90.73% | Test Loss: 0.5051, Test Accuracy: 83.90%\n",
            "Epoch 20/50 => Train Loss: 0.2684, Train Accuracy: 90.98% | Test Loss: 0.4935, Test Accuracy: 84.72%\n",
            "Epoch 21/50 => Train Loss: 0.2512, Train Accuracy: 91.64% | Test Loss: 0.4792, Test Accuracy: 85.08%\n",
            "Epoch 22/50 => Train Loss: 0.2374, Train Accuracy: 92.11% | Test Loss: 0.4875, Test Accuracy: 85.09%\n",
            "Epoch 23/50 => Train Loss: 0.2333, Train Accuracy: 92.04% | Test Loss: 0.5033, Test Accuracy: 84.80%\n",
            "Epoch 24/50 => Train Loss: 0.2240, Train Accuracy: 92.34% | Test Loss: 0.5033, Test Accuracy: 84.89%\n",
            "Epoch 25/50 => Train Loss: 0.2141, Train Accuracy: 92.67% | Test Loss: 0.5052, Test Accuracy: 84.83%\n",
            "Epoch 26/50 => Train Loss: 0.2025, Train Accuracy: 93.18% | Test Loss: 0.5043, Test Accuracy: 85.09%\n",
            "Epoch 27/50 => Train Loss: 0.1955, Train Accuracy: 93.55% | Test Loss: 0.5000, Test Accuracy: 85.18%\n",
            "Epoch 28/50 => Train Loss: 0.1898, Train Accuracy: 93.61% | Test Loss: 0.5093, Test Accuracy: 84.66%\n",
            "Epoch 29/50 => Train Loss: 0.1835, Train Accuracy: 93.93% | Test Loss: 0.5303, Test Accuracy: 85.07%\n",
            "Epoch 30/50 => Train Loss: 0.1790, Train Accuracy: 93.90% | Test Loss: 0.5150, Test Accuracy: 85.10%\n",
            "Epoch 31/50 => Train Loss: 0.1649, Train Accuracy: 94.35% | Test Loss: 0.5182, Test Accuracy: 85.17%\n",
            "Epoch 32/50 => Train Loss: 0.1631, Train Accuracy: 94.43% | Test Loss: 0.5355, Test Accuracy: 85.09%\n",
            "Epoch 33/50 => Train Loss: 0.1560, Train Accuracy: 94.68% | Test Loss: 0.5420, Test Accuracy: 85.37%\n",
            "Epoch 34/50 => Train Loss: 0.1527, Train Accuracy: 94.83% | Test Loss: 0.5258, Test Accuracy: 85.22%\n",
            "Epoch 35/50 => Train Loss: 0.1467, Train Accuracy: 94.98% | Test Loss: 0.5536, Test Accuracy: 84.66%\n",
            "Epoch 36/50 => Train Loss: 0.1433, Train Accuracy: 95.29% | Test Loss: 0.5394, Test Accuracy: 84.95%\n",
            "Epoch 37/50 => Train Loss: 0.1375, Train Accuracy: 95.39% | Test Loss: 0.5368, Test Accuracy: 85.20%\n",
            "Epoch 38/50 => Train Loss: 0.1310, Train Accuracy: 95.57% | Test Loss: 0.5467, Test Accuracy: 85.40%\n",
            "Epoch 39/50 => Train Loss: 0.1315, Train Accuracy: 95.60% | Test Loss: 0.5564, Test Accuracy: 85.62%\n",
            "Epoch 40/50 => Train Loss: 0.1255, Train Accuracy: 95.78% | Test Loss: 0.5742, Test Accuracy: 84.96%\n",
            "Epoch 41/50 => Train Loss: 0.1208, Train Accuracy: 96.01% | Test Loss: 0.5678, Test Accuracy: 84.90%\n",
            "Epoch 42/50 => Train Loss: 0.1160, Train Accuracy: 96.10% | Test Loss: 0.5679, Test Accuracy: 84.90%\n",
            "Epoch 43/50 => Train Loss: 0.1175, Train Accuracy: 96.05% | Test Loss: 0.5679, Test Accuracy: 85.13%\n"
          ]
        }
      ]
    },
    {
      "cell_type": "code",
      "execution_count": null,
      "metadata": {
        "id": "Ej8n11fj414x"
      },
      "outputs": [],
      "source": [
        "final_test_accuracy_resnet = test_accuracies_resnet50[-1]\n",
        "print(f\"\\nFinal Test Accuracy (ResNet): {final_test_accuracy_resnet:.2f}%\")"
      ]
    }
  ],
  "metadata": {
    "accelerator": "GPU",
    "colab": {
      "provenance": [],
      "authorship_tag": "ABX9TyMMgZPhsH5sGmB3xBLbd37h",
      "include_colab_link": true
    },
    "kernelspec": {
      "display_name": "Python 3",
      "name": "python3"
    },
    "language_info": {
      "name": "python"
    }
  },
  "nbformat": 4,
  "nbformat_minor": 0
}